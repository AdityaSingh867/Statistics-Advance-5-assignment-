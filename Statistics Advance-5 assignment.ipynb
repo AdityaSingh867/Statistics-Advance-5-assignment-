{
 "cells": [
  {
   "cell_type": "markdown",
   "id": "10119f0f-0dab-400f-b895-82109d4a914a",
   "metadata": {},
   "source": [
    "Q1. Calculate the 95% confidence interval for a sample of data with a mean of 50 and a standard deviation\n",
    "of 5 using Python. Interpret the results."
   ]
  },
  {
   "cell_type": "code",
   "execution_count": 14,
   "id": "0cea4699-51c4-46ac-ba06-2d4bcd272be7",
   "metadata": {},
   "outputs": [],
   "source": [
    "sample_mean = 50\n",
    "n = 50\n",
    "sample_std = 5\n",
    "\n",
    "alpha = 0.05"
   ]
  },
  {
   "cell_type": "code",
   "execution_count": 15,
   "id": "3a603d46-def9-4db9-9c93-34a7fb3290d5",
   "metadata": {},
   "outputs": [],
   "source": [
    "Lower_c_i , Higher_c_i = stats.t.interval(alpha , n-1 , sample_mean , sample_std/n**0.05)"
   ]
  },
  {
   "cell_type": "code",
   "execution_count": 16,
   "id": "fa18d293-8323-487f-94d8-eaa87207399a",
   "metadata": {},
   "outputs": [
    {
     "data": {
      "text/plain": [
       "(49.740844511104235, 50.259155488895765)"
      ]
     },
     "execution_count": 16,
     "metadata": {},
     "output_type": "execute_result"
    }
   ],
   "source": [
    "Lower_c_i , Higher_c_i"
   ]
  },
  {
   "cell_type": "markdown",
   "id": "2453d133-4703-4084-ac8a-c26233bd0d85",
   "metadata": {},
   "source": [
    "Q2. Conduct a chi-square goodness of fit test to determine if the distribution of colors of M&Ms in a bag\n",
    "matches the expected distribution of 20% blue, 20% orange, 20% green, 10% yellow, 10% red, and 20%\n",
    "brown. Use Python to perform the test with a significance level of 0.05."
   ]
  },
  {
   "cell_type": "code",
   "execution_count": 1,
   "id": "ea6a5abf-1549-401f-b852-444821644b74",
   "metadata": {},
   "outputs": [],
   "source": [
    "import scipy.stats as stat\n",
    "import numpy as np"
   ]
  },
  {
   "cell_type": "code",
   "execution_count": 3,
   "id": "a3e01c4e-9fa4-44bb-90bf-b816419f15e2",
   "metadata": {},
   "outputs": [],
   "source": [
    "expected_value = [20 , 20 , 20 , 10 , 10 , 20]\n",
    "ovserved_value = [20 , 20 , 20 , 10 , 10 , 20]"
   ]
  },
  {
   "cell_type": "code",
   "execution_count": 4,
   "id": "66316d2b-b6b8-42cb-a2a3-2008612b4cf8",
   "metadata": {},
   "outputs": [],
   "source": [
    "statis , p_value = stat.chisquare(ovserved_value , expected_value)"
   ]
  },
  {
   "cell_type": "code",
   "execution_count": 5,
   "id": "19526bb3-d138-426d-96c7-70eaccc23210",
   "metadata": {},
   "outputs": [
    {
     "data": {
      "text/plain": [
       "(0.0, 1.0)"
      ]
     },
     "execution_count": 5,
     "metadata": {},
     "output_type": "execute_result"
    }
   ],
   "source": [
    "statis , p_value"
   ]
  },
  {
   "cell_type": "code",
   "execution_count": 6,
   "id": "3a6168c7-5787-4db0-bfea-a3861e0fb61f",
   "metadata": {},
   "outputs": [],
   "source": [
    "sig_value = 0.05\n",
    "dof = len(expected_value) - 1\n",
    "c_value = stat.chi2.ppf(1 - sig_value , dof)"
   ]
  },
  {
   "cell_type": "code",
   "execution_count": 7,
   "id": "63942f5e-2f7e-4f8b-9e09-0afeb3c764dc",
   "metadata": {},
   "outputs": [
    {
     "data": {
      "text/plain": [
       "11.070497693516351"
      ]
     },
     "execution_count": 7,
     "metadata": {},
     "output_type": "execute_result"
    }
   ],
   "source": [
    "c_value"
   ]
  },
  {
   "cell_type": "code",
   "execution_count": 8,
   "id": "ade3aac6-9160-4d8e-8d99-bcf599a6e962",
   "metadata": {},
   "outputs": [
    {
     "name": "stdout",
     "output_type": "stream",
     "text": [
      "We except null hypothesise\n"
     ]
    }
   ],
   "source": [
    "if statis > c_value:\n",
    "    print('We fail to except null hypothesise')\n",
    "    \n",
    "else : \n",
    "    print('We except null hypothesise')"
   ]
  },
  {
   "cell_type": "markdown",
   "id": "31fd2ebf-ff2b-4106-8f6b-45226e5c7c66",
   "metadata": {},
   "source": [
    "Q3. Use Python to calculate the chi-square statistic and p-value for a contingency table with the following\n",
    "data:"
   ]
  },
  {
   "cell_type": "code",
   "execution_count": 21,
   "id": "96646afb-8bfc-41f4-98e7-3c03825f8918",
   "metadata": {},
   "outputs": [],
   "source": [
    "outcome_1 = [20 , 15]\n",
    "\n",
    "outcome_2 = [10 , 25]\n",
    "\n",
    "outcome_3 = [15 , 20]\n"
   ]
  },
  {
   "cell_type": "code",
   "execution_count": 22,
   "id": "7872b739-a41d-4728-ab43-3a9994b14b66",
   "metadata": {},
   "outputs": [],
   "source": [
    "#we take outcome_1 and outcome_2\n",
    "\n",
    "statis , p_value = stat.chisquare(outcome_1 , outcome_2)"
   ]
  },
  {
   "cell_type": "code",
   "execution_count": 23,
   "id": "ddc7edfa-0f48-4456-b750-3a6553de4161",
   "metadata": {},
   "outputs": [
    {
     "data": {
      "text/plain": [
       "(14.0, 0.00018281063298183515)"
      ]
     },
     "execution_count": 23,
     "metadata": {},
     "output_type": "execute_result"
    }
   ],
   "source": [
    "statis , p_value"
   ]
  },
  {
   "cell_type": "code",
   "execution_count": 24,
   "id": "519eb01a-cff5-495f-ab0b-630e1d7bb250",
   "metadata": {},
   "outputs": [],
   "source": [
    "#we take outcome_1 and outcome_3\n",
    "\n",
    "statis , p_value = stat.chisquare(outcome_1 , outcome_3)"
   ]
  },
  {
   "cell_type": "code",
   "execution_count": 25,
   "id": "8bd3f789-df2e-4949-9a81-91aefce5e1aa",
   "metadata": {},
   "outputs": [
    {
     "data": {
      "text/plain": [
       "(2.916666666666667, 0.0876687951299293)"
      ]
     },
     "execution_count": 25,
     "metadata": {},
     "output_type": "execute_result"
    }
   ],
   "source": [
    "statis , p_value"
   ]
  },
  {
   "cell_type": "code",
   "execution_count": 26,
   "id": "c1dc2bea-1905-4200-88f6-c2d7d51c684e",
   "metadata": {},
   "outputs": [],
   "source": [
    "#we take outcome_2 and outcome_3\n",
    "\n",
    "statis , p_value = stat.chisquare(outcome_2 , outcome_3)"
   ]
  },
  {
   "cell_type": "code",
   "execution_count": 27,
   "id": "824861e2-c9a3-4a4c-8fa6-0ca5f24e08d0",
   "metadata": {},
   "outputs": [
    {
     "data": {
      "text/plain": [
       "(2.916666666666667, 0.0876687951299293)"
      ]
     },
     "execution_count": 27,
     "metadata": {},
     "output_type": "execute_result"
    }
   ],
   "source": [
    "statis , p_value"
   ]
  },
  {
   "cell_type": "markdown",
   "id": "64ec8944-ea65-4497-8292-917b561bf781",
   "metadata": {},
   "source": [
    "Q4. A study of the prevalence of smoking in a population of 500 individuals found that 60 individuals\n",
    "smoked. Use Python to calculate the 95% confidence interval for the true proportion of individuals in the\n",
    "population who smoke."
   ]
  },
  {
   "cell_type": "code",
   "execution_count": 31,
   "id": "a02e0398-a7ba-46e8-bdd6-bfc14966e519",
   "metadata": {},
   "outputs": [
    {
     "name": "stdout",
     "output_type": "stream",
     "text": [
      "95% confidence interval: (0.09151586546865079, 0.1484841345313492)\n"
     ]
    }
   ],
   "source": [
    "import math\n",
    "\n",
    "n = 500\n",
    "\n",
    "x = 60\n",
    "\n",
    "p = x/n\n",
    "\n",
    "z = 1.96\n",
    "\n",
    "moe = z * math.sqrt(p * (1 - p) / n)\n",
    "\n",
    "ci = (p - moe, p + moe)\n",
    "\n",
    "print(\"95% confidence interval:\", ci)"
   ]
  },
  {
   "cell_type": "markdown",
   "id": "6038834e-1ac6-4921-a859-41cf1c658e68",
   "metadata": {},
   "source": [
    "Q5. Calculate the 90% confidence interval for a sample of data with a mean of 75 and a standard deviation\n",
    "of 12 using Python. Interpret the results."
   ]
  },
  {
   "cell_type": "code",
   "execution_count": 3,
   "id": "6c5cc10d-ac4a-4700-b016-a34f42abaafa",
   "metadata": {},
   "outputs": [],
   "source": [
    "from scipy.stats import t"
   ]
  },
  {
   "cell_type": "code",
   "execution_count": 7,
   "id": "ba31db20-1658-4d05-8a48-6d7566053ea9",
   "metadata": {},
   "outputs": [],
   "source": [
    "sample_mean = 75\n",
    "sample_std = 12\n",
    "n = 50\n",
    "alpha = 0.1"
   ]
  },
  {
   "cell_type": "code",
   "execution_count": 8,
   "id": "e9808456-e794-4ea0-83c8-2f4a11bbcebd",
   "metadata": {},
   "outputs": [],
   "source": [
    "Lower_c_i , Higher_c_i = t.interval(alpha , n-1 , sample_mean , sample_std/n**0.5 )"
   ]
  },
  {
   "cell_type": "code",
   "execution_count": 9,
   "id": "486ebf35-d5ac-4b40-8f04-52d0fc1a08e4",
   "metadata": {},
   "outputs": [
    {
     "data": {
      "text/plain": [
       "(74.78563746880873, 75.21436253119127)"
      ]
     },
     "execution_count": 9,
     "metadata": {},
     "output_type": "execute_result"
    }
   ],
   "source": [
    "Lower_c_i , Higher_c_i"
   ]
  },
  {
   "cell_type": "markdown",
   "id": "c95478e3-6e58-4362-8d3b-64efaddc67d0",
   "metadata": {},
   "source": [
    "Q6. Use Python to plot the chi-square distribution with 10 degrees of freedom. Label the axes and shade the\n",
    "area corresponding to a chi-square statistic of 15."
   ]
  },
  {
   "cell_type": "code",
   "execution_count": 12,
   "id": "d8c6999c-78e0-4515-a546-6fb3a220dac8",
   "metadata": {},
   "outputs": [
    {
     "data": {
      "image/png": "[encoded data removed]",
      "text/plain": [
       "<Figure size 640x480 with 1 Axes>"
      ]
     },
     "metadata": {},
     "output_type": "display_data"
    }
   ],
   "source": [
    "import numpy as np\n",
    "import matplotlib.pyplot as plt\n",
    "df = 10\n",
    "\n",
    "x = np.linspace(0, 25, 500)\n",
    "\n",
    "y = chi2.pdf(x, df)\n",
    "\n",
    "fig, ax = plt.subplots()\n",
    "ax.plot(x, y, 'b-', linewidth=2)\n",
    "\n",
    "xshade = np.linspace(15, 25, 100)\n",
    "yshade = chi2.pdf(xshade, df)\n",
    "ax.fill_between(xshade, yshade, color='blue', alpha=0.5)\n",
    "\n",
    "ax.set_xlabel('Chi-Square Statistic')\n",
    "ax.set_ylabel('Probability Density')\n",
    "\n",
    "plt.show()\n"
   ]
  },
  {
   "cell_type": "markdown",
   "id": "480a2d6c-5d68-4e1a-bfd2-6f61c3cb780a",
   "metadata": {},
   "source": [
    "Q7. A random sample of 1000 people was asked if they preferred Coke or Pepsi. Of the sample, 520\n",
    "preferred Coke. Calculate a 99% confidence interval for the true proportion of people in the population who\n",
    "prefer Coke."
   ]
  },
  {
   "attachments": {
    "63390dd0-fe1a-4caa-8837-18b6ba98e9e1.jpeg": {
     "image/jpeg": "[encoded data removed]"
    }
   },
   "cell_type": "markdown",
   "id": "34bb5107-c0b3-494d-9bf6-6c59b13d2075",
   "metadata": {},
   "source": [
    "![WhatsApp Image 2023-04-26 at 16.33.11.jpeg](attachment:63390dd0-fe1a-4caa-8837-18b6ba98e9e1.jpeg)"
   ]
  },
  {
   "cell_type": "markdown",
   "id": "d428e972-97e0-4d48-8d3a-0b4dcc7a4122",
   "metadata": {},
   "source": [
    "- p = sample proportion = 520/1000 = 0.52\n",
    "- n = sample size = 1000\n",
    "- z = z - score = 2.57 for 99 % confidence interval"
   ]
  },
  {
   "attachments": {
    "8eae0604-12d0-429c-a3ec-595155c909dd.jpeg": {
     "image/jpeg": "[encoded data removed]"
    }
   },
   "cell_type": "markdown",
   "id": "850add17-8668-4556-aca2-a5556c4a5422",
   "metadata": {},
   "source": [
    "![WhatsApp Image 2023-04-26 at 16.33.10.jpeg](attachment:8eae0604-12d0-429c-a3ec-595155c909dd.jpeg)"
   ]
  },
  {
   "cell_type": "markdown",
   "id": "5ab927f0-7a29-4c99-af98-6f9357651748",
   "metadata": {},
   "source": [
    "LOWER C.I = 0.51\n",
    "\n",
    "HIGHER C.I = 0.52"
   ]
  },
  {
   "cell_type": "markdown",
   "id": "26590d23-1f9a-49b1-921c-cc2211218e37",
   "metadata": {},
   "source": [
    "Q8. A researcher hypothesizes that a coin is biased towards tails. They flip the coin 100 times and observe\n",
    "45 tails. Conduct a chi-square goodness of fit test to determine if the observed frequencies match the\n",
    "expected frequencies of a fair coin. Use a significance level of 0.05."
   ]
  },
  {
   "cell_type": "markdown",
   "id": "84132997-9ff8-4347-98f5-650b9a6fa9fc",
   "metadata": {},
   "source": [
    "Null hypothesis = observed = 45\n",
    "\n",
    "ALTERNATIVE hypothesis = observed __NOT EQUAL__ 45"
   ]
  },
  {
   "cell_type": "code",
   "execution_count": 7,
   "id": "ec08d00d-f8fb-4972-8b0e-f4f2d7b3d04a",
   "metadata": {},
   "outputs": [],
   "source": [
    "expected = [50 , 50]\n",
    "ovserved = [55 , 45]"
   ]
  },
  {
   "cell_type": "code",
   "execution_count": 8,
   "id": "73e633d7-d165-4c1c-8c86-1e00aafdcfd6",
   "metadata": {},
   "outputs": [],
   "source": [
    "statis , p_value = stat.chisquare(expected , ovserved)"
   ]
  },
  {
   "cell_type": "code",
   "execution_count": 9,
   "id": "794d4c23-d6cc-45cc-98e5-72fb95004991",
   "metadata": {},
   "outputs": [
    {
     "data": {
      "text/plain": [
       "(1.0101010101010102, 0.3148786413364169)"
      ]
     },
     "execution_count": 9,
     "metadata": {},
     "output_type": "execute_result"
    }
   ],
   "source": [
    "statis , p_value"
   ]
  },
  {
   "cell_type": "code",
   "execution_count": 18,
   "id": "de8178c5-289c-4e0f-b159-fa4e1cd11a23",
   "metadata": {},
   "outputs": [],
   "source": [
    "sig_value = 0.05\n",
    "dof = len(expected) - 1\n",
    "critical_value  = stat.chi2.ppf(1 - sig_value , dof)"
   ]
  },
  {
   "cell_type": "code",
   "execution_count": 19,
   "id": "95020219-2a0a-4f16-8668-fd3c475ea94c",
   "metadata": {},
   "outputs": [
    {
     "data": {
      "text/plain": [
       "3.841458820694124"
      ]
     },
     "execution_count": 19,
     "metadata": {},
     "output_type": "execute_result"
    }
   ],
   "source": [
    "critical_value"
   ]
  },
  {
   "cell_type": "code",
   "execution_count": 20,
   "id": "1bb3e59a-9382-49bb-87b4-936ca5b3d283",
   "metadata": {},
   "outputs": [
    {
     "name": "stdout",
     "output_type": "stream",
     "text": [
      "We except the the null hypothesis\n"
     ]
    }
   ],
   "source": [
    "if statis > critical_value :\n",
    "    print('We fail to except the the null hypothesis')\n",
    "    \n",
    "else :\n",
    "    print('We except the the null hypothesis')"
   ]
  },
  {
   "cell_type": "code",
   "execution_count": null,
   "id": "cfa7b234-a71f-4391-bbf8-cb233b8caa74",
   "metadata": {},
   "outputs": [],
   "source": []
  },
  {
   "cell_type": "markdown",
   "id": "27aeae0a-dad6-4563-9535-9e191a43d8ae",
   "metadata": {},
   "source": [
    "Q9. A study was conducted to determine if there is an association between smoking status (smoker or\n",
    "non-smoker) and lung cancer diagnosis (yes or no). The results are shown in the contingency table below.\n",
    "Conduct a chi-square test for independence to determine if there is a significant association between\n",
    "smoking status and lung cancer diagnosis."
   ]
  },
  {
   "cell_type": "code",
   "execution_count": 11,
   "id": "6a65c154-d037-4a8a-9247-457239641091",
   "metadata": {},
   "outputs": [],
   "source": [
    "Smoker = [60 , 140]\n",
    "Non_smoker = [30 , 170]"
   ]
  },
  {
   "cell_type": "code",
   "execution_count": 12,
   "id": "15f0fc01-73b9-455e-a3de-49cab865dc2a",
   "metadata": {},
   "outputs": [],
   "source": [
    "statistic , p_value  = stat.chisquare(Smoker , Non_smoker)"
   ]
  },
  {
   "cell_type": "code",
   "execution_count": 13,
   "id": "de0cc347-5f52-4f27-b319-af3d7f42f91a",
   "metadata": {},
   "outputs": [
    {
     "data": {
      "text/plain": [
       "(35.294117647058826, 2.834869930488155e-09)"
      ]
     },
     "execution_count": 13,
     "metadata": {},
     "output_type": "execute_result"
    }
   ],
   "source": [
    "statistic , p_value "
   ]
  },
  {
   "cell_type": "code",
   "execution_count": 14,
   "id": "25550fbd-ae73-42dd-bd31-bd80360c99e3",
   "metadata": {},
   "outputs": [],
   "source": [
    "sig_value = 0.05\n",
    "dof = len(Smoker) - 1\n",
    "c_value = stat.chi2.ppf(1 - sig_value , dof)"
   ]
  },
  {
   "cell_type": "code",
   "execution_count": 15,
   "id": "1d9057a8-9e67-43cc-9460-b1c6182b4e15",
   "metadata": {},
   "outputs": [
    {
     "data": {
      "text/plain": [
       "3.841458820694124"
      ]
     },
     "execution_count": 15,
     "metadata": {},
     "output_type": "execute_result"
    }
   ],
   "source": [
    "c_value "
   ]
  },
  {
   "cell_type": "markdown",
   "id": "b8913a3f-5bbf-4365-bada-ad506676a06f",
   "metadata": {},
   "source": [
    "Q10. A study was conducted to determine if the proportion of people who prefer milk chocolate, dark\n",
    "chocolate, or white chocolate is different in the U.S. versus the U.K. A random sample of 500 people from\n",
    "the U.S. and a random sample of 500 people from the U.K. were surveyed. The results are shown in the\n",
    "contingency table below. Conduct a chi-square test for independence to determine if there is a significant\n",
    "association between chocolate preference and country of origin."
   ]
  },
  {
   "cell_type": "code",
   "execution_count": 28,
   "id": "11bbcb25-7c27-4e00-bd0c-cb6f74493425",
   "metadata": {},
   "outputs": [],
   "source": [
    "u_s = [200 , 150 , 150]\n",
    "u_k = [225 , 175 , 100]"
   ]
  },
  {
   "cell_type": "code",
   "execution_count": 29,
   "id": "761d0b6d-7dda-4726-9342-10a466b7f555",
   "metadata": {},
   "outputs": [],
   "source": [
    "statis , p_value = stat.chisquare(u_s , u_k)"
   ]
  },
  {
   "cell_type": "code",
   "execution_count": 30,
   "id": "3cc02844-9eac-465d-8391-0a9971b2134c",
   "metadata": {},
   "outputs": [
    {
     "data": {
      "text/plain": [
       "(31.349206349206348, 1.5581394922806692e-07)"
      ]
     },
     "execution_count": 30,
     "metadata": {},
     "output_type": "execute_result"
    }
   ],
   "source": [
    "statis , p_value"
   ]
  },
  {
   "cell_type": "markdown",
   "id": "4ebe7816-7d70-42fe-9a61-25a65a926f60",
   "metadata": {},
   "source": [
    "Q11. A random sample of 30 people was selected from a population with an unknown mean and standard\n",
    "deviation. The sample mean was found to be 72 and the sample standard deviation was found to be 10.\n",
    "Conduct a hypothesis test to determine if the population mean is significantly different from 70. Use a\n",
    "significance level of 0.05."
   ]
  },
  {
   "cell_type": "markdown",
   "id": "7fc5cc4c-1686-4332-a0a4-2548149d80ba",
   "metadata": {},
   "source": [
    "sample \n",
    "\n",
    "- n = 30\n",
    "- sample mean = 72\n",
    "- sample std = 10\n",
    "- significance level of 0.05"
   ]
  },
  {
   "cell_type": "markdown",
   "id": "c64f194d-00a3-406c-894a-9107a70ee341",
   "metadata": {},
   "source": [
    "Null hypothesis = population mean = 70\n",
    "\n",
    "Alternative hypothesis = population mean __NOT EQUAL__ 70"
   ]
  },
  {
   "cell_type": "markdown",
   "id": "c7faaa0e-2880-4194-9fb5-f93beb239911",
   "metadata": {},
   "source": [
    "the critical value of sample\n",
    "\n",
    "critical value = 1.96"
   ]
  },
  {
   "cell_type": "markdown",
   "id": "e2f8db9b-6214-4a6d-8e30-f06385d91e4b",
   "metadata": {},
   "source": [
    "z - test = sample mean - sample std / n - 1"
   ]
  },
  {
   "cell_type": "markdown",
   "id": "1d7f7cae-3b53-494b-a0c9-39ea179b6971",
   "metadata": {},
   "source": [
    "72 - 10 / 30 - 1"
   ]
  },
  {
   "cell_type": "markdown",
   "id": "ec66998f-0815-45ac-b9bd-12f4ca93a05e",
   "metadata": {},
   "source": [
    "= 2.13"
   ]
  },
  {
   "cell_type": "markdown",
   "id": "9c7d5a36-53fb-4c7d-9c01-cfb35f267ba2",
   "metadata": {},
   "source": [
    "z - test > critical value \n",
    "\n",
    "__We reject the null hypothesis__"
   ]
  },
  {
   "cell_type": "markdown",
   "id": "965ce12f-7c29-4402-a2f4-00330d7e68b4",
   "metadata": {},
   "source": [
    "It's mean population mean is __not equal__ to 70"
   ]
  },
  {
   "cell_type": "code",
   "execution_count": null,
   "id": "44cdde2b-a153-44c5-bcc3-5bbdb2c41a0f",
   "metadata": {},
   "outputs": [],
   "source": []
  }
 ],
 "metadata": {
  "kernelspec": {
   "display_name": "Python 3 (ipykernel)",
   "language": "python",
   "name": "python3"
  },
  "language_info": {
   "codemirror_mode": {
    "name": "ipython",
    "version": 3
   },
   "file_extension": ".py",
   "mimetype": "text/x-python",
   "name": "python",
   "nbconvert_exporter": "python",
   "pygments_lexer": "ipython3",
   "version": "3.10.8"
  }
 },
 "nbformat": 4,
 "nbformat_minor": 5
}
